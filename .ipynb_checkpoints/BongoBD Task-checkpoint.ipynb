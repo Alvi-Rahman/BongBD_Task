{
 "cells": [
  {
   "cell_type": "code",
   "execution_count": 1,
   "metadata": {},
   "outputs": [],
   "source": [
    "######################## TASK 1 #######################"
   ]
  },
  {
   "cell_type": "code",
   "execution_count": 2,
   "metadata": {},
   "outputs": [
    {
     "name": "stdout",
     "output_type": "stream",
     "text": [
      "key1 1\n",
      "key2 1\n",
      "key3 2\n",
      "key4 2\n",
      "key5 3\n"
     ]
    }
   ],
   "source": [
    "def print_depth(data):\n",
    "    i = 1\n",
    "    def recursive_depth(data,i):\n",
    "        assert type(data) == dict\n",
    "        for key, value in data.items():\n",
    "            assert type(data[key]) == dict or type(data[key]) == int\n",
    "            print(f\"{key} {i}\")\n",
    "            if type(data[key]) == dict:\n",
    "                i+=1\n",
    "                recursive_depth(data[key],i)\n",
    "    recursive_depth(data,i)\n",
    "                \n",
    "a = {\n",
    "    \"key1\": 1,\n",
    "    \"key2\": {\n",
    "        \"key3\": 1,\n",
    "        \"key4\": {\n",
    "            \"key5\": 4\n",
    "        }\n",
    "    }\n",
    "}\n",
    "\n",
    "# Run\n",
    "print_depth(a)"
   ]
  },
  {
   "cell_type": "code",
   "execution_count": null,
   "metadata": {},
   "outputs": [],
   "source": []
  },
  {
   "cell_type": "code",
   "execution_count": 3,
   "metadata": {},
   "outputs": [],
   "source": [
    "######################### TASK 2 ######################"
   ]
  },
  {
   "cell_type": "code",
   "execution_count": 4,
   "metadata": {},
   "outputs": [
    {
     "name": "stdout",
     "output_type": "stream",
     "text": [
      "key1 1\n",
      "key2 1\n",
      "key3 2\n",
      "key4 2\n",
      "key5 3\n",
      "user 3\n",
      "first_name 4\n",
      "last_name 4\n",
      "father 4\n",
      "first_name 5\n",
      "last_name 5\n",
      "father 5\n"
     ]
    }
   ],
   "source": [
    "class Person(object):\n",
    "    def __init__(self, first_name, last_name, father):\n",
    "        self.first_name = first_name\n",
    "        self.last_name = last_name\n",
    "        self.father = father\n",
    "    def __iter__(self):\n",
    "        return self.first_name,self.last_name,self.father\n",
    "        \n",
    "person_a = Person(\"User\", \"1\", None)\n",
    "person_b = Person(\"User\", \"2\", person_a)\n",
    "\n",
    "\n",
    "def print_depth(data):\n",
    "    i = 1\n",
    "    def recursive_depth(data,i):\n",
    "        assert type(data) == dict\n",
    "        for key, value in data.items():\n",
    "            print(f\"{key} {i}\")\n",
    "            if type(data[key]) == dict:\n",
    "                i+=1\n",
    "                recursive_depth(data[key],i)\n",
    "            elif isinstance(data[key], Person):\n",
    "                i+=1\n",
    "                recursive_depth(vars(data[key]),i)\n",
    "    recursive_depth(data,i)\n",
    "\n",
    "a = {\n",
    "    \"key1\": 1,\n",
    "    \"key2\": {\n",
    "        \"key3\": 1,\n",
    "        \"key4\": {\n",
    "            \"key5\": 4,\n",
    "            \"user\": person_b,\n",
    "        }\n",
    "    },\n",
    "}\n",
    "\n",
    "# Run\n",
    "\n",
    "print_depth(a)"
   ]
  },
  {
   "cell_type": "code",
   "execution_count": null,
   "metadata": {},
   "outputs": [],
   "source": []
  },
  {
   "cell_type": "code",
   "execution_count": 5,
   "metadata": {},
   "outputs": [],
   "source": [
    "# ############################ TASK 3 ############################"
   ]
  },
  {
   "cell_type": "code",
   "execution_count": 6,
   "metadata": {},
   "outputs": [
    {
     "data": {
      "text/plain": [
       "3"
      ]
     },
     "execution_count": 6,
     "metadata": {},
     "output_type": "execute_result"
    }
   ],
   "source": [
    "class Node:\n",
    "    def __init__(self, value, parent):\n",
    "        self.value = value\n",
    "        self.parent = parent\n",
    "        self.node_list = [value]\n",
    "        \n",
    "    def add_node(self, value, parent):\n",
    "        self.node_list.append(value)\n",
    "        assert parent != None\n",
    "        return Node(value,parent)\n",
    "\n",
    "n = Node(1,None)\n",
    "d = dict()\n",
    "d['n1'] = n.add_node(2,n)\n",
    "d['n2'] = n.add_node(3,n)\n",
    "d['n3'] = n.add_node(4,d['n1'])\n",
    "d['n4'] = n.add_node(5,d['n1'])\n",
    "d['n5'] = n.add_node(6,d['n2'])\n",
    "d['n6'] = n.add_node(7,d['n2'])\n",
    "d['n7'] = n.add_node(8,d['n3'])\n",
    "d['n8'] = n.add_node(9,d['n3'])\n",
    "\n",
    "\n",
    "def find_path(node,lst):\n",
    "    if isinstance(node['parent'], Node):\n",
    "        lst.append(node['value'])\n",
    "        v = vars(node['parent'])\n",
    "        find_path(v,lst)\n",
    "    else:\n",
    "        lst.append(node['value'])\n",
    "    return lst\n",
    "    \n",
    "def lca(node1, node2):\n",
    "    n1 , n2 = set(), set()\n",
    "    assert node1 != None or node2 != None\n",
    "    if node1 in n.node_list:\n",
    "        val = n.node_list.index(node1)\n",
    "        if val!=0:\n",
    "            assert 'n'+str(val) in d\n",
    "            n1 = set(find_path(vars(d['n'+str(val)]),[]))\n",
    "        else:\n",
    "            n1 = set(find_path(vars(n),[]))\n",
    "    else:\n",
    "        return \"node1 does not exist\"\n",
    "    if node2 in n.node_list:\n",
    "        val = n.node_list.index(node2)\n",
    "        if val != 0:\n",
    "            assert 'n'+str(val) in d\n",
    "            n2 = set(find_path(vars(d['n'+str(val)]),[]))\n",
    "        else:\n",
    "            n2 = set(find_path(vars(n),[]))\n",
    "    else:\n",
    "        return \"node2 does not exist\"\n",
    "    \n",
    "    assert n1 != None or n2 != None\n",
    "    return list(n1 & n2)[-1]\n",
    "\n",
    "\n",
    "# Run\n",
    "lca(3,7) "
   ]
  },
  {
   "cell_type": "code",
   "execution_count": null,
   "metadata": {},
   "outputs": [],
   "source": []
  },
  {
   "cell_type": "code",
   "execution_count": null,
   "metadata": {},
   "outputs": [],
   "source": []
  },
  {
   "cell_type": "code",
   "execution_count": null,
   "metadata": {},
   "outputs": [],
   "source": []
  },
  {
   "cell_type": "code",
   "execution_count": null,
   "metadata": {},
   "outputs": [],
   "source": []
  },
  {
   "cell_type": "code",
   "execution_count": null,
   "metadata": {},
   "outputs": [],
   "source": []
  }
 ],
 "metadata": {
  "kernelspec": {
   "display_name": "Python 3",
   "language": "python",
   "name": "python3"
  },
  "language_info": {
   "codemirror_mode": {
    "name": "ipython",
    "version": 3
   },
   "file_extension": ".py",
   "mimetype": "text/x-python",
   "name": "python",
   "nbconvert_exporter": "python",
   "pygments_lexer": "ipython3",
   "version": "3.8.1"
  }
 },
 "nbformat": 4,
 "nbformat_minor": 4
}
